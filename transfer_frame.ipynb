{
  "nbformat": 4,
  "nbformat_minor": 0,
  "metadata": {
    "colab": {
      "name": "transfer_frame",
      "provenance": [],
      "collapsed_sections": [],
      "mount_file_id": "1uJx4GfoFN3zg3BArIIu_L-Hsr8YrGENB",
      "authorship_tag": "ABX9TyP3RsqB+MtPRSBoWMSi6jAl"
    },
    "kernelspec": {
      "display_name": "Python 3",
      "name": "python3"
    },
    "language_info": {
      "name": "python"
    }
  },
  "cells": [
    {
      "cell_type": "code",
      "metadata": {
        "id": "IYwaWyNd05JQ"
      },
      "source": [
        "import cv2\n",
        "import os"
      ],
      "execution_count": null,
      "outputs": []
    },
    {
      "cell_type": "code",
      "metadata": {
        "id": "Z54QWh_Z3DxV"
      },
      "source": [
        "path_folder = \"/content/drive/MyDrive/CDIO4_ObjectTracking_ActionRecognition/s1/\"\n",
        "path_save = \"/content/drive/MyDrive/CDIO4_ObjectTracking_ActionRecognition/ssss/\""
      ],
      "execution_count": null,
      "outputs": []
    },
    {
      "cell_type": "code",
      "metadata": {
        "id": "u_ZJntO33Ni2"
      },
      "source": [
        "action_list = os.listdir(path_folder)\n",
        "for folder in action_list:\n",
        "  if not os.path.exists(path_save + folder):\n",
        "    os.mkdir(path_save+folder)\n",
        "  video_list = os.listdir(path_folder+folder)\n",
        "  for video in video_list:\n",
        "    #lấy tên của video\n",
        "    prefix = video.split(\".\")[0]\n",
        "    if not os.path.exists(path_save+folder+\"/\"+prefix):\n",
        "      os.mkdir(path_save+folder+\"/\"+prefix)\n",
        "    save_name = path_save + folder + \"/\" + prefix + \"/\"\n",
        "    video_name = path_folder + folder + \"/\" + video\n",
        "    cap = cv2.VideoCapture(video_name)\n",
        "    fps = int(cap.get(cv2.CAP_PROP_FRAME_COUNT))\n",
        "    fps_count = 0\n",
        "    for i in range(fps):\n",
        "      ret, frame = cap.read()\n",
        "      if ret:\n",
        "        cv2.imwrite(save_name+str(10000+fps_count)+'.jpg',frame)\n",
        "        fps_count += 1"
      ],
      "execution_count": null,
      "outputs": []
    },
    {
      "cell_type": "code",
      "metadata": {
        "id": "fdsLGFWbXWRR"
      },
      "source": [
        "import os\n",
        "import cv2\n",
        "\n",
        "img_path = '/home/tianz/datsets/ucfimgs/'\n",
        "dirs = os.listdir(img_path)\n",
        "\n",
        "for allDir in dirs:\n",
        "    child = os.path.join('%s%s' % (img_path, allDir))\n",
        "    vids = os.listdir(child)\n",
        "    for filename in vids:\n",
        "        file_path = child + '/' + filename\n",
        "        s1 = allDir + '/' + filename\n",
        "        files = os.listdir(file_path)\n",
        "        for file in files:\n",
        "            img = cv2.imread(file_path+'/'+file)\n",
        "            if img is None:\n",
        "                print(file_path+'/'+file)\n",
        "                os.remove(file_path+'/'+file)"
      ],
      "execution_count": null,
      "outputs": []
    }
  ]
}