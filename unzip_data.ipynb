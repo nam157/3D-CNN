{
  "nbformat": 4,
  "nbformat_minor": 0,
  "metadata": {
    "colab": {
      "name": "unzip_data",
      "provenance": [],
      "collapsed_sections": [],
      "authorship_tag": "ABX9TyNpTW06xyeJSALUi/UgfLGC",
      "include_colab_link": true
    },
    "kernelspec": {
      "name": "python3",
      "display_name": "Python 3"
    },
    "language_info": {
      "name": "python"
    }
  },
  "cells": [
    {
      "cell_type": "markdown",
      "metadata": {
        "id": "view-in-github",
        "colab_type": "text"
      },
      "source": [
        "<a href=\"https://colab.research.google.com/github/nam157/3D-CNN/blob/main/unzip_data.ipynb\" target=\"_parent\"><img src=\"https://colab.research.google.com/assets/colab-badge.svg\" alt=\"Open In Colab\"/></a>"
      ]
    },
    {
      "cell_type": "markdown",
      "metadata": {
        "id": "WXKYgX365hG7"
      },
      "source": [
        "Link tham khảo giải nén\n",
        "https://stackoverflow.com/questions/50315989/how-to-extract-rar-files-inside-google-colab"
      ]
    },
    {
      "cell_type": "code",
      "metadata": {
        "id": "LeuM6Gkw1C4_"
      },
      "source": [
        "!mkdir \"Action detection\""
      ],
      "execution_count": null,
      "outputs": []
    },
    {
      "cell_type": "code",
      "metadata": {
        "colab": {
          "base_uri": "https://localhost:8080/"
        },
        "id": "ig_Zr5ED1Fn3",
        "outputId": "421686d6-ba69-44c7-95b5-f29b879fd4f8"
      },
      "source": [
        "%cd \"Action detection\""
      ],
      "execution_count": null,
      "outputs": [
        {
          "output_type": "stream",
          "text": [
            "/content/Action detection\n"
          ],
          "name": "stdout"
        }
      ]
    },
    {
      "cell_type": "code",
      "metadata": {
        "colab": {
          "base_uri": "https://localhost:8080/"
        },
        "id": "ymDvJrRr1OQ4",
        "outputId": "418da860-44fa-422f-fbeb-ce033339dd6c"
      },
      "source": [
        "!wget https://serre-lab.clps.brown.edu/wp-content/uploads/2013/10/hmdb51_org.rar"
      ],
      "execution_count": null,
      "outputs": [
        {
          "output_type": "stream",
          "text": [
            "--2021-08-29 16:53:53--  https://serre-lab.clps.brown.edu/wp-content/uploads/2013/10/hmdb51_org.rar\n",
            "Resolving serre-lab.clps.brown.edu (serre-lab.clps.brown.edu)... 128.148.254.114\n",
            "Connecting to serre-lab.clps.brown.edu (serre-lab.clps.brown.edu)|128.148.254.114|:443... connected.\n",
            "HTTP request sent, awaiting response... 200 OK\n",
            "Length: 2124008126 (2.0G)\n",
            "Saving to: ‘hmdb51_org.rar’\n",
            "\n",
            "hmdb51_org.rar      100%[===================>]   1.98G  60.4MB/s    in 33s     \n",
            "\n",
            "2021-08-29 16:54:26 (61.5 MB/s) - ‘hmdb51_org.rar’ saved [2124008126/2124008126]\n",
            "\n"
          ],
          "name": "stdout"
        }
      ]
    },
    {
      "cell_type": "code",
      "metadata": {
        "id": "_lWHXBPZ1QnG"
      },
      "source": [
        "get_ipython().system_raw(\"unrar x hmdb51_org.rar\")"
      ],
      "execution_count": null,
      "outputs": []
    },
    {
      "cell_type": "code",
      "metadata": {
        "colab": {
          "base_uri": "https://localhost:8080/"
        },
        "id": "yxL_11Uf1viR",
        "outputId": "f095df79-287d-4735-8e8b-6c0c91452db6"
      },
      "source": [
        "ls"
      ],
      "execution_count": null,
      "outputs": [
        {
          "output_type": "stream",
          "text": [
            "brush_hair.rar    fencing.rar     pour.rar         situp.rar\n",
            "cartwheel.rar     flic_flac.rar   pullup.rar       smile.rar\n",
            "catch.rar         golf.rar        punch.rar        smoke.rar\n",
            "chew.rar          handstand.rar   push.rar         somersault.rar\n",
            "clap.rar          hit.rar         pushup.rar       stand.rar\n",
            "climb.rar         hmdb51_org.rar  ride_bike.rar    swing_baseball.rar\n",
            "climb_stairs.rar  hug.rar         ride_horse.rar   sword_exercise.rar\n",
            "dive.rar          jump.rar        run.rar          sword.rar\n",
            "draw_sword.rar    kick_ball.rar   shake_hands.rar  talk.rar\n",
            "dribble.rar       kick.rar        shoot_ball.rar   throw.rar\n",
            "drink.rar         kiss.rar        shoot_bow.rar    turn.rar\n",
            "eat.rar           laugh.rar       shoot_gun.rar    walk.rar\n",
            "fall_floor.rar    pick.rar        sit.rar          wave.rar\n"
          ],
          "name": "stdout"
        }
      ]
    },
    {
      "cell_type": "code",
      "metadata": {
        "id": "vHZiT_H92GwX"
      },
      "source": [
        "!mkdir \"Action\""
      ],
      "execution_count": null,
      "outputs": []
    },
    {
      "cell_type": "code",
      "metadata": {
        "colab": {
          "base_uri": "https://localhost:8080/"
        },
        "id": "PJZnSYGY2LFK",
        "outputId": "f9d5363b-918a-4696-d74a-b95a7e80784d"
      },
      "source": [
        "%cd \"Action\""
      ],
      "execution_count": null,
      "outputs": [
        {
          "output_type": "stream",
          "text": [
            "/content/Action detection/Action\n"
          ],
          "name": "stdout"
        }
      ]
    },
    {
      "cell_type": "code",
      "metadata": {
        "id": "2yLor0J43gMi"
      },
      "source": [
        "!pip install pyunpack\n",
        "!pip install patool\n",
        "from pyunpack import Archive\n"
      ],
      "execution_count": null,
      "outputs": []
    },
    {
      "cell_type": "code",
      "metadata": {
        "colab": {
          "base_uri": "https://localhost:8080/"
        },
        "id": "ZIykW-3C1SZj",
        "outputId": "9afbae0c-881a-4aec-c816-b4d668a20c68"
      },
      "source": [
        "import os\n",
        "data_folder = \"/content/Action detection\"\n",
        "for folder in os.listdir(data_folder):\n",
        "  curr_path = os.path.join(data_folder,folder)\n",
        "  print(curr_path)\n",
        "  Archive(curr_path).extractall(\"/content/Action detection/Action\")\n",
        "  "
      ],
      "execution_count": null,
      "outputs": [
        {
          "output_type": "stream",
          "text": [
            "/content/Action detection/pushup.rar\n",
            "/content/Action detection/shoot_bow.rar\n",
            "/content/Action detection/punch.rar\n",
            "/content/Action detection/kick.rar\n",
            "/content/Action detection/brush_hair.rar\n",
            "/content/Action detection/draw_sword.rar\n",
            "/content/Action detection/dive.rar\n",
            "/content/Action detection/somersault.rar\n",
            "/content/Action detection/throw.rar\n",
            "/content/Action detection/sit.rar\n",
            "/content/Action detection/hug.rar\n",
            "/content/Action detection/talk.rar\n",
            "/content/Action detection/stand.rar\n",
            "/content/Action detection/handstand.rar\n",
            "/content/Action detection/sword.rar\n",
            "/content/Action detection/pick.rar\n",
            "/content/Action detection/ride_bike.rar\n",
            "/content/Action detection/chew.rar\n",
            "/content/Action detection/fencing.rar\n",
            "/content/Action detection/situp.rar\n",
            "/content/Action detection/cartwheel.rar\n",
            "/content/Action detection/smoke.rar\n",
            "/content/Action detection/golf.rar\n",
            "/content/Action detection/shoot_gun.rar\n",
            "/content/Action detection/drink.rar\n",
            "/content/Action detection/dribble.rar\n",
            "/content/Action detection/flic_flac.rar\n",
            "/content/Action detection/pour.rar\n",
            "/content/Action detection/kiss.rar\n",
            "/content/Action detection/climb.rar\n",
            "/content/Action detection/laugh.rar\n",
            "/content/Action detection/fall_floor.rar\n",
            "/content/Action detection/eat.rar\n",
            "/content/Action detection/climb_stairs.rar\n",
            "/content/Action detection/clap.rar\n",
            "/content/Action detection/.ipynb_checkpoints\n",
            "/content/Action detection/push.rar\n",
            "/content/Action detection/shoot_ball.rar\n",
            "/content/Action detection/kick_ball.rar\n",
            "/content/Action detection/ride_horse.rar\n",
            "/content/Action detection/jump.rar\n",
            "/content/Action detection/turn.rar\n",
            "/content/Action detection/pullup.rar\n",
            "/content/Action detection/shake_hands.rar\n",
            "/content/Action detection/run.rar\n",
            "/content/Action detection/wave.rar\n",
            "/content/Action detection/hit.rar\n",
            "/content/Action detection/smile.rar\n",
            "/content/Action detection/Action\n",
            "/content/Action detection/swing_baseball.rar\n",
            "/content/Action detection/sword_exercise.rar\n",
            "/content/Action detection/catch.rar\n",
            "/content/Action detection/walk.rar\n"
          ],
          "name": "stdout"
        }
      ]
    },
    {
      "cell_type": "code",
      "metadata": {
        "colab": {
          "base_uri": "https://localhost:8080/"
        },
        "id": "ZqYwH-I73CP8",
        "outputId": "66271d75-3fc6-45db-b449-09bc4f660756"
      },
      "source": [
        "ls"
      ],
      "execution_count": null,
      "outputs": [
        {
          "output_type": "stream",
          "text": [
            "\u001b[0m\u001b[01;34mbrush_hair\u001b[0m/    \u001b[01;34mdive\u001b[0m/        \u001b[01;34mfencing\u001b[0m/    \u001b[01;34mkiss\u001b[0m/    \u001b[01;34mride_bike\u001b[0m/  \u001b[01;34msomersault\u001b[0m/\n",
            "\u001b[01;34mcartwheel\u001b[0m/     \u001b[01;34mdraw_sword\u001b[0m/  \u001b[01;34mflic_flac\u001b[0m/  \u001b[01;34mlaugh\u001b[0m/   \u001b[01;34mshoot_bow\u001b[0m/  \u001b[01;34mstand\u001b[0m/\n",
            "\u001b[01;34mchew\u001b[0m/          \u001b[01;34mdribble\u001b[0m/     \u001b[01;34mgolf\u001b[0m/       \u001b[01;34mpick\u001b[0m/    \u001b[01;34mshoot_gun\u001b[0m/  \u001b[01;34msword\u001b[0m/\n",
            "\u001b[01;34mclap\u001b[0m/          \u001b[01;34mdrink\u001b[0m/       \u001b[01;34mhandstand\u001b[0m/  \u001b[01;34mpour\u001b[0m/    \u001b[01;34msit\u001b[0m/        \u001b[01;34mtalk\u001b[0m/\n",
            "\u001b[01;34mclimb\u001b[0m/         \u001b[01;34meat\u001b[0m/         \u001b[01;34mhug\u001b[0m/        \u001b[01;34mpunch\u001b[0m/   \u001b[01;34msitup\u001b[0m/      \u001b[01;34mthrow\u001b[0m/\n",
            "\u001b[01;34mclimb_stairs\u001b[0m/  \u001b[01;34mfall_floor\u001b[0m/  \u001b[01;34mkick\u001b[0m/       \u001b[01;34mpushup\u001b[0m/  \u001b[01;34msmoke\u001b[0m/\n"
          ],
          "name": "stdout"
        }
      ]
    },
    {
      "cell_type": "code",
      "metadata": {
        "id": "W-uPMNqG5DNr"
      },
      "source": [
        ""
      ],
      "execution_count": null,
      "outputs": []
    }
  ]
}