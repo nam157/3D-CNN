{
  "nbformat": 4,
  "nbformat_minor": 0,
  "metadata": {
    "colab": {
      "name": "make_label",
      "provenance": [],
      "collapsed_sections": [],
      "mount_file_id": "1IizHRx_-CeLiQ51HIhHZNUA4-pyDTGi6",
      "authorship_tag": "ABX9TyM0SwLwwXWrq/KV87YXDoUp"
    },
    "kernelspec": {
      "name": "python3",
      "display_name": "Python 3"
    },
    "language_info": {
      "name": "python"
    }
  },
  "cells": [
    {
      "cell_type": "code",
      "metadata": {
        "id": "6Exn30zNUesN"
      },
      "source": [
        "import os\n",
        "import numpy as np\n"
      ],
      "execution_count": null,
      "outputs": []
    },
    {
      "cell_type": "code",
      "metadata": {
        "colab": {
          "base_uri": "https://localhost:8080/"
        },
        "id": "vK3I_892PEf2",
        "outputId": "ff280c21-33ee-4226-e8cf-016082826cf7"
      },
      "source": [
        "actions = [\"brush_hair\",\"eat\",\"hit\",\"sit\",\"stand\"]\n",
        "labels_map = {}\n",
        "for label,action in enumerate(actions):\n",
        "  labels_map[action] = label\n",
        "labels_map"
      ],
      "execution_count": null,
      "outputs": [
        {
          "output_type": "execute_result",
          "data": {
            "text/plain": [
              "{'brush_hair': 0, 'eat': 1, 'hit': 2, 'sit': 3, 'stand': 4}"
            ]
          },
          "metadata": {},
          "execution_count": 2
        }
      ]
    },
    {
      "cell_type": "code",
      "metadata": {
        "id": "e_Svr6YoRFcL"
      },
      "source": [
        "path = \"/content/drive/MyDrive/CDIO4_ObjectTracking_ActionRecognition/frames_hmdb51/\""
      ],
      "execution_count": null,
      "outputs": []
    },
    {
      "cell_type": "code",
      "metadata": {
        "id": "HrrajXXfASQr"
      },
      "source": [
        "f1 = open('/content/drive/MyDrive/CDIO4_ObjectTracking_ActionRecognition/train_list.txt', 'w')\n",
        "f2 = open('/content/drive/MyDrive/CDIO4_ObjectTracking_ActionRecognition/test_list.txt', 'w')\n",
        "clip_length = 16"
      ],
      "execution_count": null,
      "outputs": []
    },
    {
      "cell_type": "code",
      "metadata": {
        "id": "HlmBn-TOTOWU"
      },
      "source": [
        "ls = []\n",
        "for action in os.listdir(path):\n",
        "  lst = []\n",
        "  cd = os.path.join(path,action)\n",
        "  for folder in os.listdir(cd):\n",
        "    cd1 = os.path.join(cd,folder)\n",
        "    cd2 = os.listdir(cd1)\n",
        "    nb = len(cd2) // clip_length\n",
        "    for i in range(nb):\n",
        "      text = action +\"/\"+folder + \" \" + str(i*clip_length + 1) + \" \" + str(labels_map[action])\n",
        "    lst.append(text)\n",
        "    ls.append(lst)\n",
        "np.random.shuffle(ls)\n",
        "for i in range(len(ls)):\n",
        "  if i <= len(ls)*0.8:\n",
        "    for j in ls[i]:\n",
        "      f1.write(j + \"\\n\")\n",
        "  else:\n",
        "    for j in ls[i]:\n",
        "      f2.write(j + \"\\n\")\n",
        "f1.close()\n",
        "f2.close()\n"
      ],
      "execution_count": null,
      "outputs": []
    },
    {
      "cell_type": "code",
      "metadata": {
        "id": "mC5f7A-UBLRT"
      },
      "source": [
        ""
      ],
      "execution_count": null,
      "outputs": []
    }
  ]
}